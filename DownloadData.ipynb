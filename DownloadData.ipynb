{
 "cells": [
  {
   "cell_type": "markdown",
   "metadata": {},
   "source": [
    "## Downloading audio data"
   ]
  },
  {
   "cell_type": "code",
   "execution_count": null,
   "metadata": {},
   "outputs": [],
   "source": [
    "import urllib.request\n",
    "import json\n",
    "import os\n",
    "\n",
    "# Define the base path where the data will be saved\n",
    "base_path = \"../data/xeno-canto-dataset/\""
   ]
  },
  {
   "cell_type": "code",
   "execution_count": null,
   "metadata": {},
   "outputs": [],
   "source": [
    "def save_json(search_terms, bird_name, country):\n",
    "    num_pages = 1\n",
    "    page = 1\n",
    "    path = base_path + bird_name.replace(' ', '_') + \"/\" + country\n",
    "    if not os.path.exists(path):\n",
    "        print(\"Creating subdirectory \" + path + \" for downloaded files...\")\n",
    "        os.makedirs(path)\n",
    "    \n",
    "    while page < num_pages + 1:\n",
    "        print(\"Loading page \" + str(page) + \"...\")\n",
    "        url = 'https://www.xeno-canto.org/api/2/recordings?query={0}&page={1}'.format(\n",
    "            search_terms.replace(' ', '%20'), page)\n",
    "        print(url)\n",
    "        json_page = urllib.request.urlopen(url)\n",
    "        json_data = json.loads(json_page.read().decode('utf-8'))\n",
    "        filename = path + \"/jsondata_p\" + str(page) + \".json\"\n",
    "        with open(filename, 'w') as outfile:\n",
    "            json.dump(json_data, outfile)\n",
    "        num_pages = json_data['numPages']\n",
    "        page = page + 1\n",
    "    print(\"Found \", num_pages, \" pages in total.\")\n",
    "    print(\"Saved json for \", (num_pages - 1) * 500 + len(json_data['recordings']), \" files\")\n",
    "    return path\n",
    "\n"
   ]
  },
  {
   "cell_type": "code",
   "execution_count": null,
   "metadata": {},
   "outputs": [],
   "source": [
    "def read_data(search_term, path):\n",
    "    data = []\n",
    "    num_pages = 1\n",
    "    page = 1\n",
    "    \n",
    "    while page < num_pages + 1:\n",
    "        with open(path + \"/jsondata_p\" + str(page) + \".json\", 'r') as jsonfile:\n",
    "            json_data = jsonfile.read()\n",
    "        json_data = json.loads(json_data)\n",
    "        num_pages = json_data['numPages']\n",
    "        for recording in json_data['recordings']:\n",
    "            data.append(recording[search_term])\n",
    "        page = page + 1\n",
    "    return data\n",
    "\n"
   ]
  },
  {
   "cell_type": "code",
   "execution_count": null,
   "metadata": {},
   "outputs": [],
   "source": [
    "def download(search_terms, bird_name, country):\n",
    "    path = save_json(search_terms, bird_name, country)\n",
    "    filenames_id = read_data('id', path)\n",
    "    file_addresses = read_data('file', path)\n",
    "    \n",
    "    num_files = len(filenames_id)\n",
    "    print(\"A total of \", num_files, \" files will be downloaded\")\n",
    "    \n",
    "    for i in range(num_files):\n",
    "        print(\"Saving file \", i + 1, \"/\", num_files,\n",
    "              base_path + bird_name.replace(' ', '_') + \"/\" + filenames_id[i] + \".mp3\")\n",
    "        # Fix the URL by adding \"http://\" if it's missing\n",
    "        url = \"http:\" + file_addresses[i] if not file_addresses[i].startswith(\"http\") else file_addresses[i]\n",
    "        urllib.request.urlretrieve(url, path + \"/\" + filenames_id[i] + \".mp3\")\n",
    "\n"
   ]
  },
  {
   "cell_type": "code",
   "execution_count": null,
   "metadata": {},
   "outputs": [],
   "source": [
    "# List of countries and bird species to download\n",
    "countries = ['Poland', 'Germany', 'Slovakia', 'Czech', 'Lithuania']\n",
    "birds = [\n",
    "    'Dendrocopos major', 'Chloris chloris', 'Corvus frugilegus', 'Coccothraustes coccothraustes',\n",
    "    'Columba palumbus', 'Delichon urbicum', 'Apus apus', 'Sitta europaea', 'Corvus monedula',\n",
    "    'Phoenicurus ochruros', 'Turdus merula', 'Turdus pilaris', 'Passer montanus', 'Phylloscopus trochilus',\n",
    "    'Phylloscopus collybita', 'Phoenicurus phoenicurus', 'Motacilla alba', 'Erithacus rubecula',\n",
    "    'Streptopelia decaocto',\n",
    "     'Parus major', 'Parus caeruleus', \n",
    "      'Alauda arvensis', 'Luscinia luscinia',\n",
    "    'Garrulus glandarius', 'Turdus philomelos', 'Pica pica', 'Troglodytes troglodytes', 'Carduelis carduelis',\n",
    "    'Sturnus vulgaris', 'Emberiza citrinella', 'Passer domesticus', 'Corvus corone', \n",
    "    'Fringilla coelebs'\n",
    "]\n",
    "\n",
    "# Download audio files for each bird species in each country\n",
    "for country in countries:\n",
    "    for bird in birds:\n",
    "        search_terms = bird + ' cnt:' + country + ' type:song'\n",
    "        download(search_terms, bird.replace(' ', ''), country)\n",
    "\n",
    "# Download audio files for each bird species across all countries\n",
    "for bird in birds:\n",
    "    search_terms = bird + ' type:song'\n",
    "    download(search_terms, bird.replace(' ', ''), 'countries')\n"
   ]
  },
  {
   "cell_type": "code",
   "execution_count": null,
   "metadata": {},
   "outputs": [],
   "source": []
  }
 ],
 "metadata": {
  "kernelspec": {
   "display_name": "bird-density",
   "language": "python",
   "name": "python3"
  },
  "language_info": {
   "codemirror_mode": {
    "name": "ipython",
    "version": 3
   },
   "file_extension": ".py",
   "mimetype": "text/x-python",
   "name": "python",
   "nbconvert_exporter": "python",
   "pygments_lexer": "ipython3",
   "version": "3.9.19"
  }
 },
 "nbformat": 4,
 "nbformat_minor": 2
}
