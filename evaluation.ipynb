{
 "cells": [
  {
   "cell_type": "code",
   "execution_count": 13,
   "metadata": {},
   "outputs": [
    {
     "ename": "ModuleNotFoundError",
     "evalue": "No module named 'tensorflow.python.keras.applications'",
     "output_type": "error",
     "traceback": [
      "\u001b[0;31m---------------------------------------------------------------------------\u001b[0m",
      "\u001b[0;31mModuleNotFoundError\u001b[0m                       Traceback (most recent call last)",
      "Cell \u001b[0;32mIn[13], line 5\u001b[0m\n\u001b[1;32m      3\u001b[0m \u001b[38;5;28;01mfrom\u001b[39;00m \u001b[38;5;21;01mtensorflow\u001b[39;00m\u001b[38;5;21;01m.\u001b[39;00m\u001b[38;5;21;01mpython\u001b[39;00m\u001b[38;5;21;01m.\u001b[39;00m\u001b[38;5;21;01mkeras\u001b[39;00m\u001b[38;5;21;01m.\u001b[39;00m\u001b[38;5;21;01mmodels\u001b[39;00m \u001b[38;5;28;01mimport\u001b[39;00m Model\n\u001b[1;32m      4\u001b[0m \u001b[38;5;28;01mfrom\u001b[39;00m \u001b[38;5;21;01mtensorflow\u001b[39;00m\u001b[38;5;21;01m.\u001b[39;00m\u001b[38;5;21;01mpython\u001b[39;00m\u001b[38;5;21;01m.\u001b[39;00m\u001b[38;5;21;01mkeras\u001b[39;00m\u001b[38;5;21;01m.\u001b[39;00m\u001b[38;5;21;01mlayers\u001b[39;00m \u001b[38;5;28;01mimport\u001b[39;00m Flatten, Dense, Dropout\n\u001b[0;32m----> 5\u001b[0m \u001b[38;5;28;01mfrom\u001b[39;00m \u001b[38;5;21;01mtensorflow\u001b[39;00m\u001b[38;5;21;01m.\u001b[39;00m\u001b[38;5;21;01mpython\u001b[39;00m\u001b[38;5;21;01m.\u001b[39;00m\u001b[38;5;21;01mkeras\u001b[39;00m\u001b[38;5;21;01m.\u001b[39;00m\u001b[38;5;21;01mapplications\u001b[39;00m\u001b[38;5;21;01m.\u001b[39;00m\u001b[38;5;21;01mmobilenet_v2\u001b[39;00m \u001b[38;5;28;01mimport\u001b[39;00m MobileNetV2, preprocess_input\n\u001b[1;32m      6\u001b[0m \u001b[38;5;28;01mfrom\u001b[39;00m \u001b[38;5;21;01mtensorflow\u001b[39;00m\u001b[38;5;21;01m.\u001b[39;00m\u001b[38;5;21;01mpython\u001b[39;00m\u001b[38;5;21;01m.\u001b[39;00m\u001b[38;5;21;01mkeras\u001b[39;00m\u001b[38;5;21;01m.\u001b[39;00m\u001b[38;5;21;01moptimizers\u001b[39;00m \u001b[38;5;28;01mimport\u001b[39;00m Adam\n\u001b[1;32m      7\u001b[0m \u001b[38;5;28;01mfrom\u001b[39;00m \u001b[38;5;21;01mtensorflow\u001b[39;00m\u001b[38;5;21;01m.\u001b[39;00m\u001b[38;5;21;01mpython\u001b[39;00m\u001b[38;5;21;01m.\u001b[39;00m\u001b[38;5;21;01mkeras\u001b[39;00m\u001b[38;5;21;01m.\u001b[39;00m\u001b[38;5;21;01mpreprocessing\u001b[39;00m\u001b[38;5;21;01m.\u001b[39;00m\u001b[38;5;21;01mimage\u001b[39;00m \u001b[38;5;28;01mimport\u001b[39;00m ImageDataGenerator\n",
      "\u001b[0;31mModuleNotFoundError\u001b[0m: No module named 'tensorflow.python.keras.applications'"
     ]
    }
   ],
   "source": [
    "import os\n",
    "from tensorflow.python.keras import backend as K\n",
    "from tensorflow.python.keras.models import Model\n",
    "from tensorflow.python.keras.layers import Flatten, Dense, Dropout\n",
    "from tensorflow.python.keras.applications.mobilenet_v2 import MobileNetV2, preprocess_input\n",
    "from tensorflow.python.keras.optimizers import Adam\n",
    "from tensorflow.python.keras.preprocessing.image import ImageDataGenerator\n",
    "\n",
    "# Function to get the list of image files\n",
    "def get_image_files(test_dir):\n",
    "    image_files = []\n",
    "\n",
    "    # Iterate over each species directory\n",
    "    for species_dir in os.listdir(test_dir):\n",
    "        species_path = os.path.join(test_dir, species_dir)\n",
    "        \n",
    "        # Check if it's a directory\n",
    "        if os.path.isdir(species_path):\n",
    "            # Iterate over each audio_file directory\n",
    "            for audio_dir in os.listdir(species_path):\n",
    "                audio_path = os.path.join(species_path, audio_dir)\n",
    "                \n",
    "                # Check if it's a directory\n",
    "                if os.path.isdir(audio_path):\n",
    "                    # Iterate over each image file in the audio_file directory\n",
    "                    for file in os.listdir(audio_path):\n",
    "                        if file.endswith(('png', 'jpg', 'jpeg')):\n",
    "                            image_files.append(os.path.join(audio_path, file))\n",
    "    \n",
    "    return image_files\n",
    "\n",
    "# Define the directory structure\n",
    "test_dir = '../test/'\n",
    "\n",
    "# Get the list of image files\n",
    "image_files = get_image_files(test_dir)\n",
    "\n",
    "# Print the list of image files\n",
    "print(\"List of image files in the test directory:\")\n",
    "for file in image_files:\n",
    "    print(file)\n",
    "\n",
    "# Continue with the rest of the code for model evaluation\n",
    "test_datagen = ImageDataGenerator(preprocessing_function=preprocess_input)\n",
    "test_batches = test_datagen.flow_from_directory(test_dir,\n",
    "                                                target_size=(224, 224),\n",
    "                                                class_mode='categorical',\n",
    "                                                shuffle=False,\n",
    "                                                batch_size=4)\n",
    "\n",
    "# show class indices\n",
    "print('****************')\n",
    "for cls, idx in test_batches.class_indices.items():\n",
    "    print('Class nr ', idx, ' -> ', cls)\n",
    "print('****************')\n",
    "\n",
    "net = MobileNetV2(include_top=False,\n",
    "                  weights='imagenet',\n",
    "                  input_tensor=None,\n",
    "                  input_shape=(224, 224, 3))\n",
    "x = net.output\n",
    "x = Flatten()(x)\n",
    "x = Dropout(0.5)(x)\n",
    "output_layer = Dense(5, activation='softmax', name='softmax')(x)\n",
    "loaded_model = Model(inputs=net.input, outputs=output_layer)\n",
    "\n",
    "# load weights into the new model\n",
    "loaded_model.load_weights(\"models/AM_mobilenetV2.h5\")\n",
    "print(\"Loaded model from disk\")\n",
    "\n",
    "# evaluate the loaded model on the test data\n",
    "loaded_model.compile(optimizer=Adam(lr=5e-5),\n",
    "                     loss='categorical_crossentropy',\n",
    "                     metrics=['accuracy'])\n",
    "\n",
    "score = loaded_model.evaluate(test_batches, verbose=0)\n",
    "print(\"%s: %.2f%%\" % (loaded_model.metrics_names[1], score[1] * 100))\n"
   ]
  },
  {
   "cell_type": "code",
   "execution_count": 12,
   "metadata": {},
   "outputs": [
    {
     "name": "stdout",
     "output_type": "stream",
     "text": [
      "List of image files in the test directory:\n"
     ]
    }
   ],
   "source": [
    "import os\n",
    "\n",
    "test_dir = '../data/test/'\n",
    "image_files = [os.path.join(test_dir, file) for file in os.listdir(test_dir) if file.endswith(('png', 'jpg', 'jpeg'))]\n",
    "\n",
    "print(\"List of image files in the test directory:\")\n",
    "for file in image_files:\n",
    "    print(file)\n"
   ]
  }
 ],
 "metadata": {
  "kernelspec": {
   "display_name": "bird-density",
   "language": "python",
   "name": "python3"
  },
  "language_info": {
   "codemirror_mode": {
    "name": "ipython",
    "version": 3
   },
   "file_extension": ".py",
   "mimetype": "text/x-python",
   "name": "python",
   "nbconvert_exporter": "python",
   "pygments_lexer": "ipython3",
   "version": "3.9.19"
  }
 },
 "nbformat": 4,
 "nbformat_minor": 2
}
